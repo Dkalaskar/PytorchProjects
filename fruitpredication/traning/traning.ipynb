{
 "cells": [
  {
   "cell_type": "code",
   "execution_count": 2,
   "metadata": {},
   "outputs": [],
   "source": [
    "import torch\n",
    "import torch.nn as nn\n",
    "import torchvision\n",
    "import torchvision.transforms as transforms\n",
    "import torch.functional as F\n",
    "import pandas as pd\n",
    "import numpy as np\n",
    "import matplotlib.pyplot as plt\n",
    "from torch.nn import Linear, CrossEntropyLoss\n",
    "from torch.utils.data import Dataset, DataLoader\n",
    "from torchvision.datasets import ImageFolder\n",
    "import torch.utils.data as data\n",
    "from torchvision import models\n",
    "import torch.optim as optim\n",
    "from torch.optim import Adam\n",
    "import os"
   ]
  },
  {
   "cell_type": "code",
   "execution_count": 9,
   "metadata": {},
   "outputs": [
    {
     "name": "stdout",
     "output_type": "stream",
     "text": [
      "359\n",
      "tensor([0.7134, 0.6072, 0.4540])\n",
      "tensor([2.3817, 2.5602, 2.9844])\n"
     ]
    }
   ],
   "source": [
    "dataset = os.path.join('D:/PytorchProjects/fruitpredication/data/fruit/')\n",
    "transform = transforms.Compose([\n",
    "    transforms.ToTensor()\n",
    "])\n",
    "dataset = ImageFolder(root=dataset,transform=transform)\n",
    "print(len(dataset))\n",
    "dataset.classes\n",
    "\n",
    "#Calculate The Mean\n",
    "mean = torch.zeros(3)\n",
    "for image, _ in dataset:\n",
    "    mean += image.mean(dim=(1,2))\n",
    "mean /= len(dataset)\n",
    "\n",
    "variance_sum = torch.zeros(3)\n",
    "for image, _ in dataset:\n",
    "    variance_sum += torch.sum((image - mean.unsqueeze(1).unsqueeze(2))** 2, dim=(1 ,2))\n",
    "    \n",
    "std = torch.sqrt(variance_sum / (len(dataset)*224*224))\n",
    "\n",
    "print(mean)\n",
    "print(std)    "
   ]
  },
  {
   "cell_type": "code",
   "execution_count": null,
   "metadata": {},
   "outputs": [],
   "source": []
  }
 ],
 "metadata": {
  "kernelspec": {
   "display_name": ".venv",
   "language": "python",
   "name": "python3"
  },
  "language_info": {
   "codemirror_mode": {
    "name": "ipython",
    "version": 3
   },
   "file_extension": ".py",
   "mimetype": "text/x-python",
   "name": "python",
   "nbconvert_exporter": "python",
   "pygments_lexer": "ipython3",
   "version": "3.10.8"
  },
  "orig_nbformat": 4
 },
 "nbformat": 4,
 "nbformat_minor": 2
}
